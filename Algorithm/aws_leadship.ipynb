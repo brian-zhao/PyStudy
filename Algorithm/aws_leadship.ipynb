{
 "cells": [
  {
   "cell_type": "markdown",
   "id": "4eeb1cc1",
   "metadata": {},
   "source": [
    "# Customer Obsession\n",
    "Leaders start with the customer and work backwards. They work vigorously to earn and keep customer trust. Although leaders pay attention to competitors, they obsess over customers.\n",
    "\n",
    "Amazon Leadership Principles Interview Questions Examples:\n",
    "* **When you’re working with a large number of customers, it’s tricky to deliver excellent service to them all. How do you go about prioritizing your customers’ needs?**\n",
    "\n",
    "If this is bug then it will be addressed first, following by glacing the ticket and give them the priority for example P1 to P4 as P1 been the highest priority and P4 to be the lowest. Of the given customers there will different grades of sercice which they belong which will also infuluence the priority. Once the priority is settled,i will focus on understanding the problem behind a customer request. Go extra miles to see if there is any related problems or if the process is wrong or something need to improve.\n",
    "\n",
    "* **Give me an example of a time when you did not meet a client’s expectation. What happened, and how did you attempt to rectify the situation?**\n",
    "\n",
    "There is a time that my program manager ask me to produce a dashboard about the current status of the app. recent open cases, top cases by categories. As the requirement is not 100% as sometime this situation does happen, I go ahead with my understanding the of dashboard, what should be shown or aggragate. After a few days, the inital dashboard was built and even thought it is not the extact what the customer want but this demostrate what the dashboard capable of doing and after more detailed requirement presented, the dashboard was built met the expectation of the owner of the product.\n",
    "\n",
    "* **Who was your most difficult customer?**\n",
    "\n",
    "\n",
    "* **Tell the story of the last time you had to apologize to someone.**\n",
    "There is one time that i mess up with the production development in which I apologize to my program manager, as it is my fault of not consider a situation in code and it throws an error. I quick rolled back to the previous version and it was fixed eventually. \n",
    "\n",
    "\n",
    "* Can you tell me about a time you obsessed over giving very high quality service to a customer?\n"
   ]
  },
  {
   "cell_type": "markdown",
   "id": "75782241",
   "metadata": {},
   "source": [
    "# Ownership\n",
    "Leaders are owners. They think long term and don’t sacrifice long-term value for short-term results. They act on behalf of the entire company, beyond just their own team. They never say “that’s not my job”.\n",
    "\n",
    "Amazon Leadership Principles Interview Questions Examples:\n",
    "* Tell me about a time when you had to make a difficult short term decision to make long term gains.\n",
    "* **Tell me about a time when you had to work on a project with unclear responsibilities.**\n",
    "\n",
    "At SBS, since there is huge CMS migration work for digital platform team, at the beginning there is no clear responsiblities, as there are Vendors, other team and editors within the company. I quick idententify the long term goal and start the understanding the puzzles needs to be done to complete the task, based on that i used divid and conquer strategy to have all the task clear listed and then the responsibilites will be clear.\n",
    "\n",
    "* **Tell me about a time when you had to leave a task unfinished.**\n",
    "\n",
    "Sometime the refactor work might need to park due to higher priority ticket need immediate attension. but as long as we have time, we will revisit the task and continue work on it.\n",
    "\n",
    "* **Tell me about a time when you took on a task that went beyond your normal responsibilities.**\n",
    "\n",
    "I will talk to the product owner and demostrate the progress of the work and checking if it is correct way to go and if this is exactly what they want.\n",
    "\n",
    "* **Tell me about a time when you took it upon yourself to work on a challenging initiative.**\n",
    "\n",
    "GraphQL API, which is kind of new when I join the project but I use my spare time to study it and be able to identify the benefit and drawback of this technology. As API is critial for the frontend talk to the backend, it is clear a challeging initiative to make things right. I start to look into both backend and frontedn system including some legacy system to determine what exactly needed for the API contract to wroten."
   ]
  },
  {
   "cell_type": "markdown",
   "id": "85e143df",
   "metadata": {},
   "source": [
    "# Invent and Simplify\n",
    "Leaders expect and require innovation and invention from their teams and always find ways to simplify. They are externally aware, look for new ideas from everywhere, and are not limited by “not invented here”. As we do new things, we accept that we may be misunderstood for long periods of time.\n",
    "\n",
    "Amazon Leadership Principles Interview Questions Examples:\n",
    "* Tell me about a time when you failed to simplify a process and what you would have done differently.\n",
    "\n",
    "* Tell me about a time when you innovated on something and it went wrong.\n",
    "\n",
    "* Tell me about a time when you changed a process at work through either an innovative new way or simplification.\n",
    "One form which gather all the infomation and there are simialr information which is used multiple times across different systems. \n",
    "    * Create a campaign in Campaing Management System.\n",
    "    * Generate a shared doc which can be collacberated between different teams.\n",
    "    * A launch record in Lauch system which is used for approval. (legal, product)\n",
    "    * An issue entry which holds all the information above.\n",
    "* Tell me about a time when you invented something.\n",
    " \n",
    "* Tell me about a time when you gave a simple solution to a complex problem.\n",
    "One form, create all the entries in different systems and notify the users."
   ]
  },
  {
   "cell_type": "markdown",
   "id": "d30816fe",
   "metadata": {},
   "source": [
    "# Are Right, A Lot\n",
    "Leaders are right a lot. They have strong judgment and good instincts. They seek diverse perspectives and work to disconfirm their beliefs.\n",
    "\n",
    "Amazon Leadership Principles Interview Questions Examples:\n",
    "* Tell me about a time when you had to work with incomplete data or information.\n",
    "Dashboard prototyping, there is lack of all the data which might be given.\n",
    "analyse the given data and be able to give as manay forms as possible for the given data, tables, \n",
    "* Tell me about a time when you were wrong.\n",
    "* Tell me about a time when you had to use your judgment to solve a problem.\n",
    "* Tell me about a time when you incorporated a diverse set of perspectives into solving a problem.\n",
    "* Tell me about a time when you had your beliefs challenged and how you responded."
   ]
  },
  {
   "cell_type": "markdown",
   "id": "93811941",
   "metadata": {},
   "source": [
    "# Learn and Be Curious\n",
    "Leaders are never done learning and always seek to improve themselves. They are curious about new possibilities and act to explore them.\n",
    "\n",
    "Amazon Leadership Principles Interview Questions Examples:\n",
    "* Tell me about a time when you solved a problem through just superior knowledge or observation.\n",
    "* Tell me about a time when you influenced a change by only asking questions.\n",
    "Meet with product owner, asking lots of questions.\n",
    "* Tell me about an experience you went through that changed your way of thinking.\n",
    "* Tell me about a time when your curiosity helped you make a smarter decision.\n",
    "* Tell me about the most important lesson you learned in the past year.\n"
   ]
  },
  {
   "cell_type": "markdown",
   "id": "f5924ff7",
   "metadata": {},
   "source": [
    "# Hire and Develop the Best\n",
    "Leaders raise the performance bar with every hire and promotion. They recognize exceptional talent, and willingly move them throughout the organization. Leaders develop leaders and take seriously their role in coaching others. We work on behalf of our people to invent mechanisms for development like Career Choice.\n",
    "\n",
    "Amazon Leadership Principles Interview Questions Examples:\n",
    "* Tell me about a time when you made a wrong hire. When did you figure it out and what did you do?\n",
    "* Tell me about a time when you mentored someone.\n",
    "* Tell me about the best hire your ever made.\n",
    "* What qualities do you look for most when hiring others?\n",
    "\n",
    "* Who is the most important person in your life and why?\n",
    "Deng xiaoping"
   ]
  },
  {
   "cell_type": "markdown",
   "id": "f1b47e21",
   "metadata": {},
   "source": [
    "# Insist on the Highest Standards\n",
    "Leaders have relentlessly high standards – many people may think these standards are unreasonably high. Leaders are continually raising the bar and drive their teams to deliver high quality products, services and processes. Leaders ensure that defects do not get sent down the line and that problems are fixed so they stay fixed.\n",
    "\n",
    "Amazon Leadership Principles Interview Questions Examples:\n",
    "* Tell me about a time when a team member didn’t meet your expectations on a project.\n",
    "During the code review, \n",
    "* Tell me about a time when you couldn’t meet your own expectations on a project.\n",
    "did not write the unit test, will be added after the release.\n",
    "* Tell me about a time when you raised the bar.\n",
    "* Tell me about a time when you motivated a team to go above and beyond.\n",
    "* Tell me about a time when you were dissatisfied with the quality of something at work and went out of your way to improve it."
   ]
  },
  {
   "cell_type": "markdown",
   "id": "3d79b4e5",
   "metadata": {},
   "source": [
    "# Think Big\n",
    "Thinking small is a self-fulfilling prophecy. Leaders create and communicate a bold direction that inspires results. They think differently and look around corners for ways to serve customers.\n",
    "\n",
    "Amazon Leadership Principles Interview Questions Examples:\n",
    "* Tell me about a time when you went way beyond the scope of the project and delivered.\n",
    "* Tell me about your proudest professional achievement.\n",
    "Google Cloud notification tool.\n",
    "* Tell me about a time when you were disappointed because you didn’t think big enough.\n",
    "* Tell me about a time when your vision resulted in a big impact.\n",
    "* Tell me about a time when you had to make a bold and difficult decision."
   ]
  },
  {
   "cell_type": "markdown",
   "id": "e2e3b737",
   "metadata": {},
   "source": [
    "# Bias for Action\n",
    "Speed matters in business. Many decisions and actions are reversible and do not need extensive study. We value calculated risk taking.\n",
    "\n",
    "Amazon Leadership Principles Interview Questions Examples:\n",
    "* Tell me about a time when you took a calculated risk.\n",
    "* Tell me about a time you needed to get information from someone who wasn’t very responsive. What did you do?\n",
    "* Describe a time when you saw some problem and took the initiative to correct it rather than waiting for someone else to do it.\n",
    "* Tell me about a time when you had to make a decision with little data or information.\n",
    "* Tell me about a time when you made a decision too quickly and what you would have done differently."
   ]
  },
  {
   "cell_type": "markdown",
   "id": "33b0c527",
   "metadata": {},
   "source": [
    "# Frugality\n",
    "Accomplish more with less. Constraints breed resourcefulness, self-sufficiency and invention. There are no extra points for growing headcount, budget size or fixed expense.\n",
    "\n",
    "Amazon Leadership Principles Interview Questions Examples:\n",
    "* Tell me about a time when you had to work with limited time or resources.\n",
    "* Tell me about a time you had to rely on yourself to finish a task.\n",
    "one man job for the tool.\n",
    "* Tell me about a time where you turned down more resources to complete an assignment.\n",
    "* Tell me about a time when you beat out the competition with less resources.\n",
    "* Tell me about a time when you had to be frugal.\n",
    "reduece RPC calls "
   ]
  },
  {
   "cell_type": "markdown",
   "id": "4ad274c8",
   "metadata": {},
   "source": [
    "# Earn Trust\n",
    "Leaders listen attentively, speak candidly, and treat others respectfully. They are vocally self-critical, even when doing so is awkward or embarrassing. Leaders do not believe their or their team’s body odor smells of perfume. They benchmark themselves and their teams against the best.\n",
    "\n",
    "Amazon Leadership Principles Interview Questions Examples:\n",
    "* Tell me about a time when you had to tell someone a harsh truth.\n",
    "* What would you do if you found out that your closest friend at work was stealing?\n",
    "* What is the quality you value least about yourself?\n",
    "* What do you do to gain the trust of your teammates?\n",
    "be responsible, go extra mile.\n",
    "* Tell me about a time you had to speak up in a difficult environment."
   ]
  },
  {
   "cell_type": "markdown",
   "id": "25ee425b",
   "metadata": {},
   "source": [
    "# Dive Deep\n",
    "Leaders operate at all levels, stay connected to the details, audit frequently, and are skeptical when metrics and anecdote differ. No task is beneath them.\n",
    "\n",
    "Amazon Leadership Principles Interview Questions Examples:\n",
    "* Tell me about something that you learnt recently in your role.\n",
    "* Give me two examples of when you did more than what was required in any job experience.\n",
    "* Tell me about the most complex problem you’ve ever worked on.\n",
    "* Tell me about a time when understanding the details of a situation helped you arrive to a solution.\n",
    "* Tell me about a time you utilized in depth data to come across a solution."
   ]
  },
  {
   "cell_type": "markdown",
   "id": "08dca49d",
   "metadata": {},
   "source": [
    "# Have Backbone; Disagree and Commit\n",
    "Leaders are obligated to respectfully challenge decisions when they disagree, even when doing so is uncomfortable or exhausting. Leaders have conviction and are tenacious. They do not compromise for the sake of social cohesion. Once a decision is determined, they commit wholly.\n",
    "\n",
    "Amazon Leadership Principles Interview Questions Examples:\n",
    "* Tell me about a time when you had to step up and disagree with a team member’s approach.\n",
    "* If your direct manager was instructing you to do something you disagreed with, how would you handle it?\n",
    "* Tell me about a time when you did not accept the status quo.\n",
    "* Tell me about an unpopular decision of yours.\n",
    "* What do you believe that no one else does?"
   ]
  },
  {
   "cell_type": "markdown",
   "id": "5bf84bed",
   "metadata": {},
   "source": [
    "# Deliver Results\n",
    "Leaders focus on the key inputs for their business and deliver them with the right quality and in a timely fashion. Despite setbacks, they rise to the occasion and never settle.\n",
    "\n",
    "Amazon Leadership Principles Interview Questions Examples:\n",
    "* Give me an example of a time when you were 75% of the way through a project, and you had to pivot strategy–how were you able to make that into a success story?\n",
    "* By providing an example, tell me when you have had to handle a variety of assignments. Describe the results.\n",
    "* What is the most difficult situation you have ever faced in your life? How did you handle it?\n",
    "* Tell me about a time you had too much on your plate to deal with and how you handled getting everything done.\n",
    "* Tell me about a time when everyone else on your team gave up on something but you pushed the team towards delivering a result."
   ]
  },
  {
   "cell_type": "code",
   "execution_count": null,
   "id": "8486b507",
   "metadata": {},
   "outputs": [],
   "source": []
  }
 ],
 "metadata": {
  "kernelspec": {
   "display_name": "Python 3",
   "language": "python",
   "name": "python3"
  },
  "language_info": {
   "codemirror_mode": {
    "name": "ipython",
    "version": 3
   },
   "file_extension": ".py",
   "mimetype": "text/x-python",
   "name": "python",
   "nbconvert_exporter": "python",
   "pygments_lexer": "ipython3",
   "version": "3.9.5"
  }
 },
 "nbformat": 4,
 "nbformat_minor": 5
}
