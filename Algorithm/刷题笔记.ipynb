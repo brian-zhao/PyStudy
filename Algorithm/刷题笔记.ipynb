{
 "cells": [
  {
   "cell_type": "markdown",
   "metadata": {},
   "source": [
    "## 算法快速入门 (Algorithm)\n",
    "\n",
    "\n",
    "### 题目示例\n",
    "[Implement strStr()](https://leetcode-cn.com/problems/implement-strstr/)\n",
    "\n",
    "Return the index of the first occurrence of needle in haystack, or -1 if needle is not part of haystack."
   ]
  },
  {
   "cell_type": "code",
   "execution_count": 1,
   "metadata": {},
   "outputs": [],
   "source": [
    "class Solution:\n",
    "    def strStr(self, haystack: str, needle: str) -> int:\n",
    "        m = len(needle)\n",
    "        for i in range(len(haystack)-m+1):\n",
    "            if haystack[i:m+i] == needle:\n",
    "                return i\n",
    "        return -1"
   ]
  },
  {
   "cell_type": "markdown",
   "metadata": {},
   "source": [
    "[Subsets](https://leetcode-cn.com/problems/subsets/)\n",
    "\n",
    "Given a set of distinct integers, nums, return all possible subsets (the power set).\n"
   ]
  },
  {
   "cell_type": "markdown",
   "metadata": {},
   "source": [
    "* Iterator"
   ]
  },
  {
   "cell_type": "code",
   "execution_count": 4,
   "metadata": {},
   "outputs": [],
   "source": [
    "from typing import List\n",
    "class Solution:\n",
    "    def subsets(self, nums: List[int]) -> List[List[int]]:\n",
    "        res = [[]]\n",
    "        for i in nums:\n",
    "            res = res + [[i] + num for num in res]\n",
    "        return res"
   ]
  },
  {
   "cell_type": "markdown",
   "metadata": {},
   "source": [
    "* Recursive"
   ]
  },
  {
   "cell_type": "code",
   "execution_count": 5,
   "metadata": {},
   "outputs": [],
   "source": [
    "from typing import List\n",
    "class Solution:\n",
    "    def subsets(self, nums: List[int]) -> List[List[int]]:\n",
    "        res = []\n",
    "        n = len(nums)\n",
    "        \n",
    "        def helper(i, tmp):\n",
    "            res.append(tmp)\n",
    "            for j in range(i, n):\n",
    "                helper(j + 1,tmp + [nums[j]] )\n",
    "        \n",
    "        helper(0, [])\n",
    "        return res  "
   ]
  },
  {
   "cell_type": "markdown",
   "metadata": {},
   "source": [
    "* Python libary"
   ]
  },
  {
   "cell_type": "code",
   "execution_count": 6,
   "metadata": {},
   "outputs": [],
   "source": [
    "from typing import List\n",
    "class Solution:\n",
    "    def subsets(self, nums: List[int]) -> List[List[int]]:\n",
    "        res = []\n",
    "        for i in range(len(nums)+1):\n",
    "            for tmp in itertools.combinations(nums, i):\n",
    "                res.append(tmp)\n",
    "        return res"
   ]
  },
  {
   "cell_type": "markdown",
   "metadata": {},
   "source": [
    "## 二叉树 (Binary Tree)\n",
    "\n",
    "### 构建树 "
   ]
  },
  {
   "cell_type": "code",
   "execution_count": 17,
   "metadata": {},
   "outputs": [],
   "source": [
    "class TreeNode:\n",
    "     def __init__(self, x):\n",
    "         self.val = x\n",
    "         self.left = None\n",
    "         self.right = None\n",
    " \n",
    "a = TreeNode(1)\n",
    "b = TreeNode(2)\n",
    "c = TreeNode(3)\n",
    "d = TreeNode(4)\n",
    "e = TreeNode(5)\n",
    "f = TreeNode(6)\n",
    "g = TreeNode(7)\n",
    " \n",
    "a.left = b\n",
    "a.right = c\n",
    "b.left = d\n",
    "b.right = e\n",
    "c.left = f\n",
    "c.right = g"
   ]
  },
  {
   "cell_type": "markdown",
   "metadata": {},
   "source": [
    "![Binary Tree](./binary_tree.png)"
   ]
  },
  {
   "cell_type": "markdown",
   "metadata": {},
   "source": [
    "### 前序遍历"
   ]
  },
  {
   "cell_type": "code",
   "execution_count": 23,
   "metadata": {},
   "outputs": [
    {
     "name": "stdout",
     "output_type": "stream",
     "text": [
      "1\n",
      "2\n",
      "4\n",
      "5\n",
      "3\n",
      "6\n",
      "7\n"
     ]
    }
   ],
   "source": [
    "# 前序遍历\n",
    "# 根节点->左子树->右子树\n",
    "# 先序打印二叉树（递归）\n",
    "def preOrderTraverse(node):\n",
    "    if not node:\n",
    "        return None\n",
    "    print(node.val)\n",
    "    preOrderTraverse(node.left)\n",
    "    preOrderTraverse(node.right)\n",
    "preOrderTraverse(a)"
   ]
  },
  {
   "cell_type": "code",
   "execution_count": 16,
   "metadata": {},
   "outputs": [
    {
     "name": "stdout",
     "output_type": "stream",
     "text": [
      "1\n",
      "2\n",
      "4\n",
      "5\n",
      "3\n",
      "6\n",
      "7\n"
     ]
    }
   ],
   "source": [
    "# 先序打印二叉树（非递归）\n",
    "def preOrderTravese(node):\n",
    "    stack = [node]\n",
    "    while len(stack) > 0:\n",
    "        print(node.val)\n",
    "        if node.right:\n",
    "            stack.append(node.right)\n",
    "        if node.left:\n",
    "            stack.append(node.left)\n",
    "        node = stack.pop()\n",
    "preOrderTravese(a)"
   ]
  },
  {
   "cell_type": "markdown",
   "metadata": {},
   "source": [
    "### 中序遍历\n",
    "左子树->根节点->右子树\n"
   ]
  },
  {
   "cell_type": "code",
   "execution_count": 19,
   "metadata": {},
   "outputs": [
    {
     "name": "stdout",
     "output_type": "stream",
     "text": [
      "4\n",
      "2\n",
      "5\n",
      "1\n",
      "6\n",
      "3\n",
      "7\n"
     ]
    }
   ],
   "source": [
    "# 中序打印二叉树（递归）\n",
    "def inOrderTraverse(node):\n",
    "    if node is None:\n",
    "        return None\n",
    "    inOrderTraverse(node.left)\n",
    "    print(node.val)\n",
    "    inOrderTraverse(node.right)\n",
    "inOrderTraverse(a)"
   ]
  },
  {
   "cell_type": "code",
   "execution_count": 21,
   "metadata": {},
   "outputs": [
    {
     "name": "stdout",
     "output_type": "stream",
     "text": [
      "4\n",
      "2\n",
      "5\n",
      "1\n",
      "6\n",
      "3\n",
      "7\n"
     ]
    }
   ],
   "source": [
    "# 中序打印二叉树（非递归）\n",
    "def inOrderTraverse(node):\n",
    "    stack = []\n",
    "    pos = node\n",
    "    while pos or len(stack) > 0:\n",
    "        if pos:\n",
    "            stack.append(pos)\n",
    "            pos = pos.left\n",
    "        else:\n",
    "            pos = stack.pop()\n",
    "            print(pos.val)\n",
    "            pos = pos.right\n",
    "inOrderTraverse(a)"
   ]
  },
  {
   "cell_type": "markdown",
   "metadata": {},
   "source": [
    "### 后序遍历\n",
    "左子树->右子树->根节点"
   ]
  },
  {
   "cell_type": "code",
   "execution_count": 24,
   "metadata": {},
   "outputs": [
    {
     "name": "stdout",
     "output_type": "stream",
     "text": [
      "4\n",
      "5\n",
      "2\n",
      "6\n",
      "7\n",
      "3\n",
      "1\n"
     ]
    }
   ],
   "source": [
    "# 后序打印二叉树（递归）\n",
    "def postOrderTraverse(node):\n",
    "    if node is None:\n",
    "        return None\n",
    "    postOrderTraverse(node.left)\n",
    "    postOrderTraverse(node.right)\n",
    "    print(node.val)\n",
    "postOrderTraverse(a)"
   ]
  },
  {
   "cell_type": "code",
   "execution_count": 25,
   "metadata": {},
   "outputs": [
    {
     "name": "stdout",
     "output_type": "stream",
     "text": [
      "4\n",
      "5\n",
      "2\n",
      "6\n",
      "7\n",
      "3\n",
      "1\n"
     ]
    }
   ],
   "source": [
    "# 后序打印二叉树（非递归）\n",
    "# 使用两个栈结构\n",
    "# 第一个栈进栈顺序：左节点->右节点->跟节点\n",
    "# 第一个栈弹出顺序： 跟节点->右节点->左节点(先序遍历栈弹出顺序：跟->左->右)\n",
    "# 第二个栈存储为第一个栈的每个弹出依次进栈\n",
    "# 最后第二个栈依次出栈\n",
    "def postOrderTraverse(node):\n",
    "    stack = [node]\n",
    "    stack2 = []\n",
    "    while len(stack) > 0:\n",
    "        node = stack.pop()\n",
    "        stack2.append(node)\n",
    "        if node.left is not None:\n",
    "            stack.append(node.left)\n",
    "        if node.right is not None:\n",
    "            stack.append(node.right)\n",
    "    while len(stack2) > 0:\n",
    "        print(stack2.pop().val)\n",
    "postOrderTraverse(a)"
   ]
  },
  {
   "cell_type": "markdown",
   "metadata": {},
   "source": [
    "### 层次遍历\n",
    "逐层遍历"
   ]
  },
  {
   "cell_type": "code",
   "execution_count": 33,
   "metadata": {},
   "outputs": [
    {
     "name": "stdout",
     "output_type": "stream",
     "text": [
      "1\n",
      "2\n",
      "3\n",
      "4\n",
      "5\n",
      "6\n",
      "7\n"
     ]
    }
   ],
   "source": [
    "def layerTraverse(node):\n",
    "    \n",
    "    if not node:\n",
    "        return None\n",
    " \n",
    "    queue = []  \n",
    "    queue.append(node)\n",
    "    while len(queue) > 0:\n",
    "        tmp = queue.pop(0)\n",
    "        if not tmp:\n",
    "            continue\n",
    "        print(tmp.val)\n",
    "        if node.left:\n",
    "            queue.append(tmp.left)\n",
    "        if node.right:\n",
    "            queue.append(tmp.right)\n",
    "layerTraverse(a)"
   ]
  },
  {
   "cell_type": "markdown",
   "metadata": {},
   "source": [
    "## DFS 深度搜索-从上到下"
   ]
  },
  {
   "cell_type": "code",
   "execution_count": 35,
   "metadata": {},
   "outputs": [
    {
     "name": "stdout",
     "output_type": "stream",
     "text": [
      "1\n",
      "2\n",
      "4\n",
      "5\n",
      "3\n",
      "6\n",
      "7\n"
     ]
    }
   ],
   "source": [
    "class Tree():\n",
    "    # 树类\n",
    "    def __init__(self):\n",
    "        self.root = Node()\n",
    "    \n",
    "    def DFS(self,root):\n",
    "        if root == None:\n",
    "            return\n",
    "        print(root.val)\n",
    "        self.DFS(root.left)\n",
    "        self.DFS(root.right)\n",
    "\n",
    "tree = Tree()\n",
    "tree.DFS(a)"
   ]
  },
  {
   "cell_type": "markdown",
   "metadata": {},
   "source": [
    "## BFS 层次遍历"
   ]
  },
  {
   "cell_type": "code",
   "execution_count": 39,
   "metadata": {},
   "outputs": [
    {
     "name": "stdout",
     "output_type": "stream",
     "text": [
      "1\n",
      "2\n",
      "3\n",
      "4\n",
      "5\n",
      "6\n",
      "7\n"
     ]
    }
   ],
   "source": [
    "def breadth_travel(root):\n",
    "    \"\"\"利用队列实现树的层次遍历\"\"\"\n",
    "    if root == None:\n",
    "        return\n",
    "    queue = []\n",
    "    queue.append(root)\n",
    "    while queue:\n",
    "        node = queue.pop(0)\n",
    "        print(node.val)\n",
    "        if node.left != None:\n",
    "            queue.append(node.left)\n",
    "        if node.right != None:\n",
    "            queue.append(node.right)\n",
    "breadth_travel(a)"
   ]
  },
  {
   "cell_type": "markdown",
   "metadata": {},
   "source": [
    "## 分治法应用 (divid and conquer)\n",
    "\n",
    "### 分治法模板\n",
    "* 递归返回条件\n",
    "* 分段处理\n",
    "* 合并结果"
   ]
  },
  {
   "cell_type": "code",
   "execution_count": 41,
   "metadata": {},
   "outputs": [],
   "source": [
    "def traversal(root):\n",
    "    if not root:\n",
    "        pass\n",
    "        # do something and return\n",
    "    \n",
    "    # Divide\n",
    "    left = traversal(root.left)\n",
    "    right = traversal(root.right)\n",
    "    \n",
    "    # Conquer\n",
    "    # result = Merge from left and right\n",
    "    return result"
   ]
  },
  {
   "cell_type": "markdown",
   "metadata": {},
   "source": [
    "### 归并排序 (Merge Sort)\n",
    "O(N * LogN)"
   ]
  },
  {
   "cell_type": "code",
   "execution_count": 42,
   "metadata": {},
   "outputs": [
    {
     "name": "stdout",
     "output_type": "stream",
     "text": [
      "[17, 20, 26, 31, 44, 54, 55, 77, 93]\n"
     ]
    }
   ],
   "source": [
    "def mergeSort(myList):\n",
    "    if len(myList) > 1:\n",
    "        mid = len(myList) // 2\n",
    "        left = myList[:mid]\n",
    "        right = myList[mid:]\n",
    "\n",
    "        # Recursive call on each half\n",
    "        mergeSort(left)\n",
    "        mergeSort(right)\n",
    "\n",
    "        # Two iterators for traversing the two halves\n",
    "        i = 0\n",
    "        j = 0\n",
    "        \n",
    "        # Iterator for the main list\n",
    "        k = 0\n",
    "        \n",
    "        while i < len(left) and j < len(right):\n",
    "            if left[i] < right[j]:\n",
    "              # The value from the left half has been used\n",
    "              myList[k] = left[i]\n",
    "              # Move the iterator forward\n",
    "              i += 1\n",
    "            else:\n",
    "                myList[k] = right[j]\n",
    "                j += 1\n",
    "            # Move to the next slot\n",
    "            k += 1\n",
    "\n",
    "        # For all the remaining values\n",
    "        while i < len(left):\n",
    "            myList[k] = left[i]\n",
    "            i += 1\n",
    "            k += 1\n",
    "\n",
    "        while j < len(right):\n",
    "            myList[k]=right[j]\n",
    "            j += 1\n",
    "            k += 1\n",
    "\n",
    "myList = [54,26,93,17,77,31,44,55,20]\n",
    "mergeSort(myList)\n",
    "print(myList)"
   ]
  },
  {
   "cell_type": "markdown",
   "metadata": {},
   "source": [
    "## 快速排序 (Quick Sort)"
   ]
  },
  {
   "cell_type": "code",
   "execution_count": 44,
   "metadata": {},
   "outputs": [
    {
     "name": "stdout",
     "output_type": "stream",
     "text": [
      "sorted array is: [1, 5, 7, 8, 9, 10]\n"
     ]
    }
   ],
   "source": [
    "def partition(arr,low,high): \n",
    "    i = ( low-1 )         # index of smaller element \n",
    "    pivot = arr[high]     # pivot \n",
    "  \n",
    "    for j in range(low , high): \n",
    "  \n",
    "        # If current element is smaller than or \n",
    "        # equal to pivot \n",
    "        if   arr[j] <= pivot: \n",
    "          \n",
    "            # increment index of smaller element \n",
    "            i = i+1 \n",
    "            arr[i],arr[j] = arr[j],arr[i] \n",
    "  \n",
    "    arr[i+1],arr[high] = arr[high],arr[i+1] \n",
    "    return ( i+1 ) \n",
    "  \n",
    "\n",
    "# Function to do Quick sort \n",
    "def quickSort(arr,low,high):\n",
    "    \"\"\"The main function that implements QuickSort \n",
    "    arr[] --> Array to be sorted, \n",
    "    low  --> Starting index, \n",
    "    high  --> Ending index \n",
    "    \"\"\"\n",
    "    if low < high: \n",
    "  \n",
    "        # pi is partitioning index, arr[p] is now \n",
    "        # at right place \n",
    "        pi = partition(arr,low,high) \n",
    "  \n",
    "        # Separately sort elements before \n",
    "        # partition and after partition \n",
    "        quickSort(arr, low, pi-1) \n",
    "        quickSort(arr, pi+1, high) \n",
    "\n",
    "arr = [10, 7, 8, 9, 1, 5] \n",
    "n = len(arr) \n",
    "quickSort(arr,0,n-1) \n",
    "print (f\"sorted array is: {arr}\")"
   ]
  },
  {
   "cell_type": "markdown",
   "metadata": {},
   "source": [
    "## 常见题目示例\n",
    "[maximum-depth-of-binary-tree](https://leetcode-cn.com/problems/maximum-depth-of-binary-tree/)\n",
    "Given a binary tree, find its maximum depth.\n",
    "\n",
    "The maximum depth is the number of nodes along the longest path from the root node down to the farthest leaf node."
   ]
  },
  {
   "cell_type": "code",
   "execution_count": 45,
   "metadata": {},
   "outputs": [],
   "source": [
    "class Solution:\n",
    "    def maxDepth(self, root: TreeNode) -> int:\n",
    "        if not root:\n",
    "            return 0\n",
    "        else:\n",
    "            return 1 + max(self.maxDepth(root.left), self.maxDepth(root.right))"
   ]
  },
  {
   "cell_type": "markdown",
   "metadata": {},
   "source": [
    "[balanced-binary-tree](https://leetcode-cn.com/problems/balanced-binary-tree/)\n",
    "\n",
    "Given a binary tree, determine if it is height-balanced."
   ]
  },
  {
   "cell_type": "code",
   "execution_count": 46,
   "metadata": {},
   "outputs": [],
   "source": [
    "class Solution:\n",
    "    def maxDepth(self, root: TreeNode) -> int:\n",
    "        if not root:\n",
    "            return 0\n",
    "        left = self.maxDepth(root.left)\n",
    "        right = self.maxDepth(root.right)\n",
    "        if left == -1 or right == -1 or left-right > 1 or right - left > 1:\n",
    "            return -1\n",
    "        \n",
    "        if left > right :\n",
    "            return left + 1\n",
    "        else:\n",
    "            return right + 1\n",
    "        \n",
    "        \n",
    "    def isBalanced(self, root: TreeNode) -> bool:\n",
    "        if self.maxDepth(root) == -1:\n",
    "            return False\n",
    "        return True"
   ]
  },
  {
   "cell_type": "markdown",
   "metadata": {},
   "source": [
    "[binary-tree-maximum-path-sum](https://leetcode-cn.com/problems/binary-tree-maximum-path-sum/)\n",
    "\n",
    "Given a non-empty binary tree, find the maximum path sum."
   ]
  },
  {
   "cell_type": "code",
   "execution_count": 47,
   "metadata": {},
   "outputs": [],
   "source": [
    "class Solution:\n",
    "    def __init__(self):\n",
    "        self.max_path = float('-inf')\n",
    "        \n",
    "    def getMax(self, root):\n",
    "        if not root:\n",
    "            return 0\n",
    "        \n",
    "        left = max(0, self.getMax(root.left))\n",
    "        right = max(0, self.getMax(root.right))\n",
    "        \n",
    "        self.max_path = max(self.max_path, left + right + root.val)\n",
    "        \n",
    "        return max(left, right) + root.val\n",
    "        \n",
    "    def maxPathSum(self, root: TreeNode) -> int:\n",
    "        if not root:\n",
    "            return 0\n",
    "        \n",
    "        self.getMax(root)\n",
    "        return self.max_path"
   ]
  },
  {
   "cell_type": "markdown",
   "metadata": {},
   "source": [
    "[lowest-common-ancestor-of-a-binary-tree](https://leetcode-cn.com/problems/lowest-common-ancestor-of-a-binary-tree/)\n",
    "\n",
    "Given a binary tree, find the lowest common ancestor (LCA) of two given nodes in the tree.\n"
   ]
  },
  {
   "cell_type": "code",
   "execution_count": 48,
   "metadata": {},
   "outputs": [],
   "source": [
    "class Solution:\n",
    "    def lowestCommonAncestor(self, root: 'TreeNode', p: 'TreeNode', q: 'TreeNode') -> 'TreeNode':\n",
    "        if not root or root == p or root == q:\n",
    "            return root\n",
    "        else:\n",
    "            left = self.lowestCommonAncestor(root.left, p, q)\n",
    "            right = self.lowestCommonAncestor(root.right, p, q)\n",
    "            \n",
    "            if left and right:\n",
    "                return root\n",
    "            elif left:\n",
    "                return left\n",
    "            elif right:\n",
    "                return right\n",
    "            else:\n",
    "                return"
   ]
  },
  {
   "cell_type": "markdown",
   "metadata": {},
   "source": [
    "[binary-tree-level-order-traversal](https://leetcode-cn.com/problems/binary-tree-level-order-traversal/)\n",
    "\n",
    "Given a binary tree, return the level order traversal of its nodes' values. (ie, from left to right, level by level).\n"
   ]
  },
  {
   "cell_type": "code",
   "execution_count": 49,
   "metadata": {},
   "outputs": [],
   "source": [
    "class Solution:\n",
    "    def levelOrder(self, root: TreeNode) -> List[List[int]]:\n",
    "        if root == None:\n",
    "            return [] \n",
    "        \n",
    "        queue = collections.deque()\n",
    "        queue.append(root)\n",
    "        res = []\n",
    "        while queue:\n",
    "            size = len(queue)\n",
    "            level = []\n",
    "            for _ in range(size):\n",
    "                cur = queue.popleft()\n",
    "                if not cur:\n",
    "                    continue\n",
    "                level.append(cur.val)\n",
    "                queue.append(cur.left)\n",
    "                queue.append(cur.right)\n",
    "            if level:\n",
    "                res.append(level)\n",
    "        return res\n"
   ]
  },
  {
   "cell_type": "markdown",
   "metadata": {},
   "source": [
    "[binary-tree-level-order-traversal-ii](https://leetcode-cn.com/problems/binary-tree-level-order-traversal-ii/)\n",
    "\n",
    "Given a binary tree, return the bottom-up level order traversal of its nodes' values. (ie, from left to right, level by level from leaf to root).\n"
   ]
  },
  {
   "cell_type": "code",
   "execution_count": 50,
   "metadata": {},
   "outputs": [],
   "source": [
    "class Solution:\n",
    "    def levelOrderBottom(self, root: TreeNode) -> List[List[int]]:\n",
    "        if root == None:\n",
    "            return [] \n",
    "        \n",
    "        queue = collections.deque()\n",
    "        queue.append(root)\n",
    "        res = []\n",
    "        while queue:\n",
    "            size = len(queue)\n",
    "            level = []\n",
    "            for _ in range(size):\n",
    "                cur = queue.popleft()\n",
    "                if not cur:\n",
    "                    continue\n",
    "                level.append(cur.val)\n",
    "                queue.append(cur.left)\n",
    "                queue.append(cur.right)\n",
    "            if level:\n",
    "                res.append(level)\n",
    "        return res[::-1]"
   ]
  },
  {
   "cell_type": "markdown",
   "metadata": {},
   "source": [
    "[binary-tree-zigzag-level-order-traversal](https://leetcode-cn.com/problems/binary-tree-zigzag-level-order-traversal/)\n",
    "\n",
    "Given a binary tree, return the zigzag level order traversal of its nodes' values. (ie, from left to right, then right to left for the next level and alternate between).\n"
   ]
  },
  {
   "cell_type": "code",
   "execution_count": 51,
   "metadata": {},
   "outputs": [],
   "source": [
    "class Solution:\n",
    "    def zigzagLevelOrder(self, root: TreeNode) -> List[List[int]]:\n",
    "        if root == None:\n",
    "            return [] \n",
    "        \n",
    "        queue = collections.deque()\n",
    "        queue.append(root)\n",
    "        res = []\n",
    "        toggle = True\n",
    "        while queue:\n",
    "            size = len(queue)\n",
    "            level = []\n",
    "            for _ in range(size):\n",
    "                cur = queue.popleft()\n",
    "                if not cur:\n",
    "                    continue\n",
    "                level.append(cur.val)\n",
    "                queue.append(cur.left)\n",
    "                queue.append(cur.right)\n",
    "            if level:\n",
    "                res.append(level if toggle else level[::-1])\n",
    "            toggle = not(toggle)\n",
    "        return res"
   ]
  },
  {
   "cell_type": "markdown",
   "metadata": {},
   "source": [
    "## 二叉搜索树应用\n",
    "[validate-binary-search-tree](https://leetcode-cn.com/problems/validate-binary-search-tree/)\n",
    "\n",
    "Given a binary tree, determine if it is a valid binary search tree (BST)."
   ]
  },
  {
   "cell_type": "code",
   "execution_count": 52,
   "metadata": {},
   "outputs": [],
   "source": [
    "# 中序遍历\n",
    "class Solution:\n",
    "    def isValidBST(self, root: TreeNode) -> bool:\n",
    "        result = []\n",
    "        self.inOrder(root, result)\n",
    "        for i in range(len(result) - 1):\n",
    "            if result[i] >= result[i+1]:\n",
    "                return False\n",
    "        return True\n",
    "        \n",
    "    def inOrder(self, root, result):\n",
    "        if not root:\n",
    "            return\n",
    "        self.inOrder(root.left, result)\n",
    "        result.append(root.val)\n",
    "        self.inOrder(root.right, result)\n",
    "        \n",
    "# Divid and conquer\n",
    "class Solution:\n",
    "    def isValidBST(self, root: TreeNode) -> bool:\n",
    "        result = self.helper(root)\n",
    "        return result['is_valid']\n",
    "\n",
    "        \n",
    "    def helper(self, root):\n",
    "        result = {\n",
    "            'is_valid': False,\n",
    "            'max': None,\n",
    "            'min': None,\n",
    "        }\n",
    "        if not root:\n",
    "            result['is_valid'] = True\n",
    "            return result\n",
    "        \n",
    "        left = self.helper(root.left)\n",
    "        right = self.helper(root.right)\n",
    "        \n",
    "        if not left['is_valid'] or not right['is_valid']:\n",
    "            result['is_valid'] = False\n",
    "            return result\n",
    "        \n",
    "        if left['max'] and left['max'].val >= root.val:\n",
    "            result['is_valid'] = False\n",
    "            return result\n",
    "        \n",
    "        if right['min'] and right['min'].val <= root.val:\n",
    "            result['is_valid'] = False\n",
    "            return result\n",
    "        \n",
    "        result['is_valid'] = True\n",
    "        result['min'] = root\n",
    "        if left['min']:\n",
    "            result['min'] = left['min']\n",
    "            \n",
    "        result['max'] = root\n",
    "        if right['max']:\n",
    "            result['max'] = right['max']\n",
    "        return result\n",
    "            "
   ]
  },
  {
   "cell_type": "markdown",
   "metadata": {},
   "source": [
    "[insert-into-a-binary-search-tree](https://leetcode-cn.com/problems/insert-into-a-binary-search-tree/)\n",
    "\n",
    "Given the root node of a binary search tree (BST) and a value to be inserted into the tree, insert the value into the BST. Return the root node of the BST after the insertion. It is guaranteed that the new value does not exist in the original BST."
   ]
  },
  {
   "cell_type": "code",
   "execution_count": 53,
   "metadata": {},
   "outputs": [],
   "source": [
    "class Solution:\n",
    "    def insertIntoBST(self, root: TreeNode, val: int) -> TreeNode:\n",
    "        if not root:\n",
    "            root = TreeNode(val=val)\n",
    "            return root\n",
    "        if root.val > val:\n",
    "            root.left = self.insertIntoBST(root.left, val)\n",
    "        else:\n",
    "            root.right = self.insertIntoBST(root.right, val)\n",
    "        \n",
    "        return root"
   ]
  },
  {
   "cell_type": "markdown",
   "metadata": {},
   "source": [
    "# 链表 (Linked list)\n",
    "\n",
    "* null/nil 异常处理\n",
    "* dummy node 哑巴节点\n",
    "* 快慢指针\n",
    "* 插入一个节点到排序链表\n",
    "* 从一个链表中移除一个节点\n",
    "* 翻转链表\n",
    "* 合并两个链表\n",
    "* 找到链表的中间节点"
   ]
  },
  {
   "cell_type": "markdown",
   "metadata": {},
   "source": [
    "### [remove-duplicates-from-sorted-list](https://leetcode-cn.com/problems/remove-duplicates-from-sorted-list/)\n",
    "\n",
    "Given a sorted linked list, delete all duplicates such that each element appear only once.\n"
   ]
  },
  {
   "cell_type": "code",
   "execution_count": 57,
   "metadata": {},
   "outputs": [],
   "source": [
    "# Definition for singly-linked list.\n",
    "class ListNode:\n",
    "    def __init__(self, x):\n",
    "        self.val = x\n",
    "        self.next = None\n",
    "\n",
    "class Solution:\n",
    "    def deleteDuplicates(self, head: ListNode) -> ListNode:\n",
    "        current = head\n",
    "        \n",
    "        while current and current.next:\n",
    "            if current.val == current.next.val:\n",
    "                current.next = current.next.next\n",
    "            else:\n",
    "                current = current.next\n",
    "        return head"
   ]
  },
  {
   "cell_type": "markdown",
   "metadata": {},
   "source": [
    "### [remove-duplicates-from-sorted-list-ii](https://leetcode-cn.com/problems/remove-duplicates-from-sorted-list-ii/)\n",
    "\n",
    "Given a sorted linked list, delete all nodes that have duplicate numbers, leaving only distinct numbers from the original list.\n",
    "\n",
    "Return the linked list sorted as well."
   ]
  },
  {
   "cell_type": "code",
   "execution_count": 58,
   "metadata": {},
   "outputs": [],
   "source": [
    "class Solution:\n",
    "    def deleteDuplicates(self, head: ListNode) -> ListNode:\n",
    "        if not head:\n",
    "            return head\n",
    "        if head.next and head.val == head.next.val:\n",
    "            while head.next != None and head.val == head.next.val:\n",
    "                head = head.next\n",
    "            return self.deleteDuplicates(head.next)\n",
    "        else:\n",
    "            head.next = self.deleteDuplicates(head.next)\n",
    "        return head\n"
   ]
  },
  {
   "cell_type": "markdown",
   "metadata": {},
   "source": [
    "### [reverse-linked-list](https://leetcode-cn.com/problems/reverse-linked-list/)\n",
    "\n",
    "Reverse a singly linked list."
   ]
  },
  {
   "cell_type": "code",
   "execution_count": 59,
   "metadata": {},
   "outputs": [],
   "source": [
    "class Solution:\n",
    "    def reverseList(self, head: ListNode) -> ListNode:\n",
    "        prev, cur = None, head\n",
    "        while cur:\n",
    "            tmp = cur.next\n",
    "            cur.next = prev\n",
    "            prev = cur\n",
    "            cur = tmp\n",
    "        return prev"
   ]
  },
  {
   "cell_type": "markdown",
   "metadata": {},
   "source": [
    "### [reverse-linked-list-ii](https://leetcode-cn.com/problems/reverse-linked-list-ii/)\n",
    "\n",
    "Reverse a linked list from position m to n. Do it in one-pass."
   ]
  },
  {
   "cell_type": "code",
   "execution_count": 60,
   "metadata": {},
   "outputs": [],
   "source": [
    "class Solution:\n",
    "    def reverseBetween(self, head: ListNode, m: int, n: int) -> ListNode:\n",
    "        if not head:\n",
    "            return None\n",
    "\n",
    "        result = ListNode(0)\n",
    "        result.next = head\n",
    "        res = result\n",
    "        for _ in range(m):\n",
    "            pre = res\n",
    "            res = res.next\n",
    "                 \n",
    "        back = res\n",
    "        temp1 = None\n",
    "        temp2 = None\n",
    "        for _ in range(n-m+1):\n",
    "            temp1 = res.next\n",
    "            res.next = temp2\n",
    "            temp2 = res\n",
    "            res = temp1\n",
    "            \n",
    "        pre.next = temp2\n",
    "        back.next = temp1\n",
    "        return result.next"
   ]
  },
  {
   "cell_type": "markdown",
   "metadata": {},
   "source": [
    "### [merge-two-sorted-lists](https://leetcode-cn.com/problems/merge-two-sorted-lists/)\n",
    "\n",
    "Merge two sorted linked lists and return it as a new sorted list. The new list should be made by splicing together the nodes of the first two lists.\n"
   ]
  },
  {
   "cell_type": "code",
   "execution_count": 61,
   "metadata": {},
   "outputs": [],
   "source": [
    "class Solution:\n",
    "    def mergeTwoLists(self, l1: ListNode, l2: ListNode) -> ListNode:\n",
    "        \n",
    "        head = ListNode(0)\n",
    "        first = head\n",
    "        while l1 != None and l2 != None:\n",
    "            if l1.val > l2.val:\n",
    "                head.next = l2\n",
    "                l2 = l2.next\n",
    "            else :\n",
    "                head.next = l1\n",
    "                l1 = l1.next\n",
    "            head = head.next\n",
    "        if l1 == None:\n",
    "            head.next = l2\n",
    "        elif l2 == None:\n",
    "            head.next = l1\n",
    "        return first.next"
   ]
  },
  {
   "cell_type": "markdown",
   "metadata": {},
   "source": [
    "### [partition-list](https://leetcode-cn.com/problems/partition-list/)\n",
    "\n",
    "Given a linked list and a value x, partition it such that all nodes less than x come before nodes greater than or equal to x.\n"
   ]
  },
  {
   "cell_type": "code",
   "execution_count": 62,
   "metadata": {},
   "outputs": [],
   "source": [
    "class Solution:\n",
    "    def partition(self, head: ListNode, x: int) -> ListNode:\n",
    "        head_dummy = ListNode(-1)\n",
    "        tail_dummy = ListNode(-1)\n",
    "        p1 = head_dummy\n",
    "        p2 = tail_dummy\n",
    "        while head:\n",
    "            if head.val < x:\n",
    "                p1.next = head\n",
    "                p1 = p1.next\n",
    "            else:\n",
    "                p2.next = head\n",
    "                p2 = p2.next\n",
    "            head = head.next\n",
    "        p1.next = tail_dummy.next\n",
    "        p2.next = None\n",
    "        return head_dummy.next"
   ]
  },
  {
   "cell_type": "markdown",
   "metadata": {},
   "source": [
    "### [sort-list](https://leetcode-cn.com/problems/sort-list/)\n",
    "\n",
    "Sort a linked list in O(n log n) time using constant space complexity."
   ]
  },
  {
   "cell_type": "code",
   "execution_count": 63,
   "metadata": {},
   "outputs": [],
   "source": [
    "class Solution:\n",
    "    def sortList(self, head: ListNode) -> ListNode:\n",
    "        if not head or not head.next: \n",
    "            return head # termination.\n",
    "        # cut the LinkedList at the mid index.\n",
    "        slow, fast = head, head.next\n",
    "        while fast and fast.next:\n",
    "            fast, slow = fast.next.next, slow.next\n",
    "        mid, slow.next = slow.next, None # save and cut.\n",
    "        # recursive for cutting.\n",
    "        left, right = self.sortList(head), self.sortList(mid)\n",
    "        # merge `left` and `right` linked list and return it.\n",
    "        h = res = ListNode(0)\n",
    "        while left and right:\n",
    "            if left.val < right.val: \n",
    "                h.next, left = left, left.next\n",
    "            else: \n",
    "                h.next, right = right, right.next\n",
    "            h = h.next\n",
    "        h.next = left if left else right\n",
    "        return res.next\n"
   ]
  },
  {
   "cell_type": "markdown",
   "metadata": {},
   "source": [
    "### [reorder-list](https://leetcode-cn.com/problems/reorder-list/)\n",
    "\n",
    "Given a singly linked list L: L0→L1→…→Ln-1→Ln,\n",
    "reorder it to: L0→Ln→L1→Ln-1→L2→Ln-2→…\n"
   ]
  },
  {
   "cell_type": "code",
   "execution_count": 64,
   "metadata": {},
   "outputs": [],
   "source": [
    "class Solution:\n",
    "    def reorderList(self, head: ListNode) -> None:\n",
    "        \"\"\"\n",
    "        Do not return anything, modify head in-place instead.\n",
    "        \"\"\"\n",
    "        if not head or not head.next: return head\n",
    "        # 1 2 3 4 5\n",
    "        fast = head\n",
    "        pre_mid = head\n",
    "        # 找到中点, 偶数个找到时上界那个\n",
    "        while fast.next and fast.next.next:\n",
    "            pre_mid = pre_mid.next\n",
    "            fast = fast.next.next\n",
    "        # 翻转中点之后的链表,采用是pre, cur双指针方法\n",
    "        pre = None\n",
    "        cur = pre_mid.next\n",
    "        # 1 2 5 4 3\n",
    "        while cur:\n",
    "            tmp = cur.next\n",
    "            cur.next = pre\n",
    "            pre = cur\n",
    "            cur = tmp\n",
    "        # 翻转链表和前面链表拼接\n",
    "        pre_mid.next = pre\n",
    "        # 1 5 2 4 3\n",
    "        # 链表头\n",
    "        p1 = head\n",
    "        # 翻转头\n",
    "        p2 = pre_mid.next\n",
    "        #print(p1.val, p2.val)\n",
    "        while p1 != pre_mid:\n",
    "            # 建议大家这部分画图, 很容易理解\n",
    "            pre_mid.next = p2.next\n",
    "            p2.next = p1.next\n",
    "            p1.next = p2\n",
    "            p1 = p2.next\n",
    "            p2 = pre_mid.next\n"
   ]
  },
  {
   "cell_type": "markdown",
   "metadata": {},
   "source": [
    "### [linked-list-cycle](https://leetcode-cn.com/problems/linked-list-cycle/)\n",
    "\n",
    "Given a linked list, determine if it has a cycle in it."
   ]
  },
  {
   "cell_type": "code",
   "execution_count": 65,
   "metadata": {},
   "outputs": [],
   "source": [
    "class Solution:\n",
    "    def hasCycle(self, head: ListNode) -> bool:\n",
    "        fast = slow = head\n",
    "        while fast and fast.next:\n",
    "            fast = fast.next.next\n",
    "            slow = slow.next\n",
    "            if slow == fast:\n",
    "                return True\n",
    "        return False"
   ]
  },
  {
   "cell_type": "markdown",
   "metadata": {},
   "source": [
    "### [linked-list-cycle-ii](https://leetcode-cn.com/problems/linked-list-cycle-ii/)\n",
    "\n",
    "Given a linked list, return the node where the cycle begins. If there is no cycle, return null."
   ]
  },
  {
   "cell_type": "code",
   "execution_count": 66,
   "metadata": {},
   "outputs": [],
   "source": [
    "class Solution:\n",
    "    def detectCycle(self, head: ListNode) -> ListNode:\n",
    "        if head is None:\n",
    "            return None\n",
    "        if head.next is None:\n",
    "            return None\n",
    "        first = second = head\n",
    "        while second.next and second.next.next:\n",
    "            first = first.next\n",
    "            second = second.next.next\n",
    "            if first == second:\n",
    "                p = head\n",
    "                while first != p:\n",
    "                    p = p.next\n",
    "                    first = first.next\n",
    "                return p\n",
    "        return None"
   ]
  },
  {
   "cell_type": "markdown",
   "metadata": {},
   "source": [
    "### [palindrome-linked-list](https://leetcode-cn.com/problems/palindrome-linked-list/)\n",
    "\n",
    "Given a singly linked list, determine if it is a palindrome.\n"
   ]
  },
  {
   "cell_type": "code",
   "execution_count": 67,
   "metadata": {},
   "outputs": [],
   "source": [
    "class Solution:\n",
    "    def isPalindrome(self, head: ListNode) -> bool:\n",
    "        if head is None or head.next is None:\n",
    "            return True\n",
    "        if head.next.next is None:\n",
    "            return head.val == head.next.val\n",
    "        fast = slow = q = head\n",
    "        while fast.next and fast.next.next:#这里快指针的判读条件跟判断环形有一点不同\n",
    "            fast = fast.next.next\n",
    "            slow = slow.next\n",
    "\n",
    "        def reverse_list(head):\n",
    "            if head is None:\n",
    "                return head\n",
    "            cur = head\n",
    "            pre = None\n",
    "            nxt = cur.next\n",
    "            while nxt:\n",
    "                cur.next = pre\n",
    "                pre = cur\n",
    "                cur = nxt\n",
    "                nxt = nxt.next\n",
    "            cur.next = pre\n",
    "            return cur\n",
    "        \n",
    "        p = reverse_list(slow.next)\n",
    "        while p.next:\n",
    "            if p.val != q.val:\n",
    "                return False\n",
    "            p = p.next\n",
    "            q = q.next\n",
    "        return p.val == q.val"
   ]
  },
  {
   "cell_type": "markdown",
   "metadata": {},
   "source": [
    "### [copy-list-with-random-pointer](https://leetcode-cn.com/problems/copy-list-with-random-pointer/)\n",
    "\n",
    "A linked list is given such that each node contains an additional random pointer which could point to any node in the list or null.\n"
   ]
  },
  {
   "cell_type": "code",
   "execution_count": 68,
   "metadata": {},
   "outputs": [],
   "source": [
    "class Solution:\n",
    "    def copyRandomList(self, head: 'Node') -> 'Node':\n",
    "        if head == None:\n",
    "            return None\n",
    "        memories = {} # 在这个字典里，key是旧链表的节点，val是新链表的节点。\n",
    "        node = head\n",
    "        while node != None:\n",
    "            cloneNode = Node(node.val,None,None)\n",
    "            memories[node] = cloneNode\n",
    "            node = node.next\n",
    "        node = head\n",
    "        while node:  # 这里用dict.get因为key值如果为空的话，就会返回默认值None\n",
    "        # 根据字典的映射关系来处理新链表的random和next关系。\n",
    "            memories.get(node).next = memories.get(node.next)\n",
    "            memories.get(node).random = memories.get(node.random)\n",
    "            node = node.next\n",
    "        return memories[head]   # head的val是head的复制节点（即新节点的头结点）"
   ]
  },
  {
   "cell_type": "code",
   "execution_count": null,
   "metadata": {},
   "outputs": [],
   "source": []
  }
 ],
 "metadata": {
  "kernelspec": {
   "display_name": "Python 3",
   "language": "python",
   "name": "python3"
  },
  "language_info": {
   "codemirror_mode": {
    "name": "ipython",
    "version": 3
   },
   "file_extension": ".py",
   "mimetype": "text/x-python",
   "name": "python",
   "nbconvert_exporter": "python",
   "pygments_lexer": "ipython3",
   "version": "3.7.7"
  }
 },
 "nbformat": 4,
 "nbformat_minor": 2
}
