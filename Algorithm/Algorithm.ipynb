{
 "cells": [
  {
   "cell_type": "markdown",
   "metadata": {},
   "source": [
    "# Chapter 1"
   ]
  },
  {
   "cell_type": "markdown",
   "metadata": {},
   "source": [
    "## Binary Search"
   ]
  },
  {
   "cell_type": "code",
   "execution_count": 5,
   "metadata": {},
   "outputs": [],
   "source": [
    "def binary_search(list, item):\n",
    "    low = 0\n",
    "    high = len(list) - 1\n",
    "    \n",
    "    while low <= high:\n",
    "        mid = int((low + high)/2)\n",
    "        guess = list[mid]\n",
    "        if guess == item:\n",
    "            return mid\n",
    "        if guess > item:\n",
    "            high = mid - 1\n",
    "        else:\n",
    "            low = mid + 1\n",
    "    return None"
   ]
  },
  {
   "cell_type": "code",
   "execution_count": 6,
   "metadata": {},
   "outputs": [],
   "source": [
    "my_list = [1, 3, 5, 7, 9]"
   ]
  },
  {
   "cell_type": "code",
   "execution_count": 7,
   "metadata": {},
   "outputs": [
    {
     "name": "stdout",
     "output_type": "stream",
     "text": [
      "1\n"
     ]
    }
   ],
   "source": [
    "print(binary_search(my_list, 3))"
   ]
  },
  {
   "cell_type": "code",
   "execution_count": 8,
   "metadata": {},
   "outputs": [
    {
     "name": "stdout",
     "output_type": "stream",
     "text": [
      "None\n"
     ]
    }
   ],
   "source": [
    "print(binary_search(my_list, -1))"
   ]
  },
  {
   "cell_type": "markdown",
   "metadata": {},
   "source": [
    "### Run Time\n",
    "Simple Search | Binary Search\n",
    "--------------|--------------\n",
    "O(n) | O(logn)"
   ]
  },
  {
   "cell_type": "markdown",
   "metadata": {},
   "source": [
    "### O time \n",
    "* **O(logn)** log time\n",
    "* **O(n)** Linear time\n",
    "* **O(n * logn)** Quick Sort time\n",
    "* **O(n^2)** Selection Sort time\n",
    "* **O(n!)** traveling salesman problem (tsp) time"
   ]
  },
  {
   "cell_type": "markdown",
   "metadata": {},
   "source": [
    "## TSP (travelling salesman problem)\n",
    "\n",
    "details in chapter 10\n",
    "\n",
    "City Number | Operation times\n",
    "------------|--------------\n",
    "6 | 720\n",
    "7 | 5040\n",
    "8 | 40320\n",
    "... | ...\n",
    "15 | 1,307,674,368,000\n",
    "...| ...\n",
    "30 | 265,252,859,812,191,058,636,308,480,000,000"
   ]
  },
  {
   "cell_type": "markdown",
   "metadata": {},
   "source": [
    "# Chapter 2\n",
    "## Selection Sort"
   ]
  },
  {
   "cell_type": "markdown",
   "metadata": {},
   "source": [
    "### linked list"
   ]
  },
  {
   "cell_type": "code",
   "execution_count": 2,
   "metadata": {},
   "outputs": [
    {
     "name": "stdout",
     "output_type": "stream",
     "text": [
      "text\n"
     ]
    }
   ],
   "source": [
    "class Node:\n",
    "    def __init__(self, cargo = None, next = None):\n",
    "        self.cargo = cargo\n",
    "        self.next = next\n",
    "    def __str__(self):\n",
    "        return str(self.cargo)\n",
    "    \n",
    "print(Node(\"text\"))"
   ]
  },
  {
   "cell_type": "code",
   "execution_count": 3,
   "metadata": {},
   "outputs": [
    {
     "name": "stdout",
     "output_type": "stream",
     "text": [
      "1\n",
      "2\n",
      "3\n"
     ]
    }
   ],
   "source": [
    "node1 = Node(1)\n",
    "node2 = Node(2)\n",
    "node3 = Node(3)\n",
    "node1.next = node2\n",
    "node2.next = node3\n",
    "\n",
    "def printList(node):\n",
    "    while node:\n",
    "        print(node)\n",
    "        node = node.next\n",
    "printList(node1)"
   ]
  },
  {
   "cell_type": "markdown",
   "metadata": {},
   "source": [
    "### Array\n",
    "\n",
    "arr = list()"
   ]
  },
  {
   "cell_type": "markdown",
   "metadata": {},
   "source": [
    "----| Array | Linked list\n",
    "---|-------|------------\n",
    "read| O(1) | O(n)\n",
    "insert| O(n) | O(1)\n",
    "delete| O(n) | O(1)"
   ]
  },
  {
   "cell_type": "code",
   "execution_count": 7,
   "metadata": {},
   "outputs": [
    {
     "name": "stdout",
     "output_type": "stream",
     "text": [
      "[2, 3, 5, 6, 10]\n"
     ]
    }
   ],
   "source": [
    "def findSmallest(arr):\n",
    "    smallest = arr[0]\n",
    "    smallest_index = 0\n",
    "    for i in range(1, len(arr)):\n",
    "        if arr[i] < smallest:\n",
    "            smallest = arr[i]\n",
    "            smallest_index = i\n",
    "    return smallest_index\n",
    "\n",
    "def selectionSort(arr):\n",
    "    newArr = []\n",
    "    for i in range(len(arr)):\n",
    "        smallest = findSmallest(arr)\n",
    "        newArr.append(arr.pop(smallest))\n",
    "    return newArr\n",
    "\n",
    "print(selectionSort([5, 3, 6, 2, 10]))"
   ]
  },
  {
   "cell_type": "markdown",
   "metadata": {},
   "source": [
    "# Chapter 3\n",
    "## Recusive"
   ]
  },
  {
   "cell_type": "markdown",
   "metadata": {},
   "source": [
    "### call Stack"
   ]
  },
  {
   "cell_type": "code",
   "execution_count": 11,
   "metadata": {},
   "outputs": [],
   "source": [
    "def greet(name):\n",
    "    print(\"hello, \" + name + \"!\")\n",
    "    greet2(name)\n",
    "    print(\"getting ready to say bye...\")\n",
    "    bye()\n",
    "\n",
    "def greet2(name):\n",
    "    print(\"how are you, \" + name + \"?\")\n",
    "    \n",
    "def bye():\n",
    "    print(\"ok bye!\")"
   ]
  },
  {
   "cell_type": "code",
   "execution_count": 12,
   "metadata": {},
   "outputs": [
    {
     "name": "stdout",
     "output_type": "stream",
     "text": [
      "hello, Brian!\n",
      "how are you, Brian?\n",
      "getting ready to say bye...\n",
      "ok bye!\n"
     ]
    }
   ],
   "source": [
    "greet(\"Brian\")"
   ]
  },
  {
   "cell_type": "code",
   "execution_count": 13,
   "metadata": {},
   "outputs": [],
   "source": [
    "def fact(x):\n",
    "    if x == 1:\n",
    "        return 1\n",
    "    else:\n",
    "        return x * fact(x-1)"
   ]
  },
  {
   "cell_type": "markdown",
   "metadata": {},
   "source": [
    "# Chapter 4"
   ]
  },
  {
   "cell_type": "markdown",
   "metadata": {},
   "source": [
    "## Quick Sort\n",
    "\n",
    "### divide and conquer，D&C"
   ]
  },
  {
   "cell_type": "code",
   "execution_count": 15,
   "metadata": {},
   "outputs": [
    {
     "name": "stdout",
     "output_type": "stream",
     "text": [
      "10\n"
     ]
    }
   ],
   "source": [
    "def sum(arr): \n",
    "    total = 0\n",
    "    for x in arr:\n",
    "        total += x \n",
    "    return total\n",
    "print(sum([1, 2, 3, 4]))"
   ]
  },
  {
   "cell_type": "code",
   "execution_count": 16,
   "metadata": {},
   "outputs": [
    {
     "name": "stdout",
     "output_type": "stream",
     "text": [
      "[2, 3, 5, 10]\n"
     ]
    }
   ],
   "source": [
    "def quicksort(array):\n",
    "    if len(array) < 2:\n",
    "        return array\n",
    "    else:\n",
    "        pivot = array[0]\n",
    "        less = [i for i in array[1:] if i <= pivot]\n",
    "        greater = [i for i in array[1:] if i > pivot]\n",
    "        return quicksort(less) + [pivot] + quicksort(greater)\n",
    "    \n",
    "print(quicksort([10, 5, 2, 3]))"
   ]
  },
  {
   "cell_type": "markdown",
   "metadata": {},
   "source": [
    "Algorithm| Bianry Search | Simple Search | quick sort (merge sort) | selection sort | TSP\n",
    "---------|--------------|---------------|------------|----------------|------\n",
    "O  | O(logn) | O(n) | O(nlogn) | O(n**2) | O(n!)"
   ]
  },
  {
   "cell_type": "markdown",
   "metadata": {},
   "source": [
    "# Chapter 5\n",
    "## Hash table aka dictionary"
   ]
  },
  {
   "cell_type": "code",
   "execution_count": 17,
   "metadata": {},
   "outputs": [],
   "source": [
    "voted = {}\n",
    "def check_voter(name): \n",
    "    if voted.get(name):\n",
    "        print(\"kick them out!\")\n",
    "    else:\n",
    "        voted[name] = True\n",
    "        print(\"let them vote!\")"
   ]
  },
  {
   "cell_type": "code",
   "execution_count": 18,
   "metadata": {},
   "outputs": [],
   "source": [
    "cache = {}\n",
    "def get_page(url): \n",
    "    if cache.get(url):\n",
    "        return cache[url] \n",
    "    else:\n",
    "        data = get_data_from_server(url)\n",
    "        cache[url] = data\n",
    "        return data"
   ]
  },
  {
   "cell_type": "markdown",
   "metadata": {},
   "source": [
    "# Chapter 6\n",
    "## breadth-first search，BFS"
   ]
  },
  {
   "cell_type": "markdown",
   "metadata": {},
   "source": [
    "### Solve two kinds of problems\n",
    "*  from node A, is there path to node B?\n",
    "*  from node A, which path is the shortest to node B?"
   ]
  },
  {
   "cell_type": "markdown",
   "metadata": {},
   "source": [
    "## Queue (First In First Out, FIFO)\n",
    "\n",
    "### directed graph\n",
    "### undirected graph"
   ]
  },
  {
   "cell_type": "code",
   "execution_count": 19,
   "metadata": {},
   "outputs": [],
   "source": [
    "# Graph implemation\n",
    "graph = {}\n",
    "graph[\"you\"] = [\"alice\", \"bob\", \"claire\"]\n",
    "graph[\"bob\"] = [\"anuj\", \"peggy\"]\n",
    "graph[\"alice\"] = [\"peggy\"]\n",
    "graph[\"claire\"] = [\"thom\", \"jonny\"]\n",
    "graph[\"anuj\"] = []\n",
    "graph[\"peggy\"] = []\n",
    "graph[\"thom\"] = []\n",
    "graph[\"jonny\"] = []"
   ]
  },
  {
   "cell_type": "markdown",
   "metadata": {},
   "source": [
    "## Template"
   ]
  },
  {
   "cell_type": "code",
   "execution_count": 26,
   "metadata": {},
   "outputs": [],
   "source": [
    "from collections import deque\n",
    "def find_seller(name):\n",
    "    search_queue = deque()\n",
    "    search_queue += graph[\"you\"]\n",
    "    searched = []\n",
    "    while search_queue:\n",
    "        person = search_queue.popleft()\n",
    "        if person not in searched:\n",
    "            if person_is_seller(person):\n",
    "                print(f\"{person} is a mango seller.\")\n",
    "                return True\n",
    "            else:\n",
    "                search_queue += graph[person]\n",
    "    return False\n",
    "\n",
    "def person_is_seller(name):\n",
    "    return name[-1] == 'm'\n"
   ]
  },
  {
   "cell_type": "code",
   "execution_count": 27,
   "metadata": {},
   "outputs": [
    {
     "name": "stdout",
     "output_type": "stream",
     "text": [
      "thom is a mango seller.\n"
     ]
    },
    {
     "data": {
      "text/plain": [
       "True"
      ]
     },
     "execution_count": 27,
     "metadata": {},
     "output_type": "execute_result"
    }
   ],
   "source": [
    "find_seller(\"you\")"
   ]
  },
  {
   "cell_type": "markdown",
   "metadata": {},
   "source": [
    "### Run time\n",
    "O(V + E) \n",
    "* V = vertice\n",
    "* E = edge"
   ]
  },
  {
   "cell_type": "code",
   "execution_count": 30,
   "metadata": {},
   "outputs": [],
   "source": [
    "graph = {}\n",
    "graph[\"get up\"] = [\"exercise\", \"bruce teeth\", 'pack lunch']\n",
    "graph[\"exercise\"] = [\"bath\"]\n",
    "graph[\"bath\"] = [\"dress\"]\n",
    "graph[\"bruce teeth\"]= [\"breakfast\"]\n",
    "graph[\"dress\"] = []\n",
    "graph[\"breakfast\"] = []\n",
    "graph[\"pack lunch\"] = []"
   ]
  },
  {
   "cell_type": "code",
   "execution_count": 31,
   "metadata": {},
   "outputs": [
    {
     "data": {
      "text/plain": [
       "{'get up': ['exercise', 'bruce teeth', 'pack lunch'],\n",
       " 'exercise': ['bath'],\n",
       " 'bath': ['dress'],\n",
       " 'bruce teeth': ['breakfast'],\n",
       " 'dress': [],\n",
       " 'breakfast': [],\n",
       " 'pack lunch': []}"
      ]
     },
     "execution_count": 31,
     "metadata": {},
     "output_type": "execute_result"
    }
   ],
   "source": [
    "graph"
   ]
  },
  {
   "cell_type": "markdown",
   "metadata": {},
   "source": [
    "## Topological sorting"
   ]
  },
  {
   "cell_type": "code",
   "execution_count": 35,
   "metadata": {},
   "outputs": [],
   "source": [
    "def iterative_topological_sort(graph, start):\n",
    "    seen = set()\n",
    "    stack = []    # path variable is gone, stack and order are new\n",
    "    order = []    # order will be in reverse order at first\n",
    "    q = [start]\n",
    "    while q:\n",
    "        v = q.pop()\n",
    "        if v not in seen:\n",
    "            seen.add(v) # no need to append to path any more\n",
    "            q.extend(graph[v])\n",
    "\n",
    "            while stack and v not in graph[stack[-1]]: # new stuff here!\n",
    "                order.append(stack.pop())\n",
    "            stack.append(v)\n",
    "\n",
    "    return stack + order[::-1]   # new return value!"
   ]
  },
  {
   "cell_type": "code",
   "execution_count": 36,
   "metadata": {},
   "outputs": [
    {
     "data": {
      "text/plain": [
       "['get up',\n",
       " 'exercise',\n",
       " 'bath',\n",
       " 'dress',\n",
       " 'bruce teeth',\n",
       " 'breakfast',\n",
       " 'pack lunch']"
      ]
     },
     "execution_count": 36,
     "metadata": {},
     "output_type": "execute_result"
    }
   ],
   "source": [
    "iterative_topological_sort(graph, 'get up')"
   ]
  },
  {
   "cell_type": "markdown",
   "metadata": {},
   "source": [
    "# Chapter 7 \n",
    "## Dijkstra's algorithm"
   ]
  },
  {
   "cell_type": "markdown",
   "metadata": {},
   "source": [
    "### Steps\n",
    "1. find the shortest time to reach a Node.\n",
    "2. Update the cost which is the node neighbour.\n",
    "3. Repeat the process util all the nodes are processed.\n",
    "4. Calculate the final path."
   ]
  },
  {
   "cell_type": "markdown",
   "metadata": {},
   "source": [
    "## Defination\n",
    "*  weight\n",
    "*  weighted graph (use Dijkstra)\n",
    "*  unweighted graph (use BFS)\n",
    "*  Dijkstra is only suitable for **Directed acyclic graph (DAG)**\n",
    "*  Nigative weight (use Bellman-Ford algorithm)"
   ]
  },
  {
   "cell_type": "markdown",
   "metadata": {},
   "source": [
    "## Template"
   ]
  },
  {
   "cell_type": "code",
   "execution_count": 54,
   "metadata": {},
   "outputs": [],
   "source": [
    "graph[\"start\"] = {}\n",
    "graph[\"start\"][\"a\"] = 6\n",
    "graph[\"start\"][\"b\"] = 2\n",
    "graph[\"a\"] = {}\n",
    "graph[\"a\"][\"fin\"] = 1\n",
    "graph[\"b\"] = {}\n",
    "graph[\"b\"][\"a\"] = 3\n",
    "graph[\"b\"][\"fin\"] = 5\n",
    "graph[\"fin\"] = {}\n",
    "\n",
    "infinity = float(\"inf\")\n",
    "costs = {}\n",
    "costs[\"a\"] = 6\n",
    "costs[\"b\"] = 2\n",
    "costs[\"fin\"] = infinity\n",
    "\n",
    "parents = {}\n",
    "parents[\"a\"] = \"start\"\n",
    "parents[\"b\"] = \"start\"\n",
    "parents[\"fin\"] = None\n",
    "\n",
    "processed = []\n",
    "\n",
    "def find_lowest_cost_node(costs):\n",
    "    lowest_cost = float(\"inf\")\n",
    "    lowest_cost_node = None\n",
    "    for node in costs:\n",
    "        cost = costs[node]\n",
    "        if cost < lowest_cost and node not in processed:\n",
    "            lowest_cost = cost\n",
    "            lowest_cost_node = node\n",
    "    return lowest_cost_node\n",
    "\n",
    "def dijkstra(graph, costs, parents):\n",
    "    node = find_lowest_cost_node(costs)\n",
    "    while node is not None:\n",
    "        cost = costs[node]\n",
    "        neighbors = graph[node]\n",
    "        for n in neighbors.keys():\n",
    "            new_cost = cost + neighbors[n]\n",
    "            if costs[n] > new_cost:\n",
    "                costs[n] = new_cost\n",
    "                parents[n] = node\n",
    "        processed.append(node)\n",
    "        node = find_lowest_cost_node(costs)\n",
    "    return costs[\"fin\"]\n",
    "\n",
    "    "
   ]
  },
  {
   "cell_type": "code",
   "execution_count": 55,
   "metadata": {},
   "outputs": [
    {
     "data": {
      "text/plain": [
       "6"
      ]
     },
     "execution_count": 55,
     "metadata": {},
     "output_type": "execute_result"
    }
   ],
   "source": [
    "dijkstra(graph, costs, parents)"
   ]
  },
  {
   "cell_type": "markdown",
   "metadata": {},
   "source": [
    "# Chapter 8\n",
    "## Greedy Algorithm\n",
    "\n",
    "### Classroom Scheduling problem\n",
    "Find the class which finished earliest and then find the following class which starts after it finished.\n",
    "\n",
    "### Backpack problem\n",
    "\n",
    "### Set coverage problem\n",
    "\n",
    "\n",
    "## Approximation algorithm"
   ]
  },
  {
   "cell_type": "code",
   "execution_count": 61,
   "metadata": {},
   "outputs": [
    {
     "name": "stdout",
     "output_type": "stream",
     "text": [
      "{'kthree', 'kone', 'kfive', 'ktwo'}\n"
     ]
    }
   ],
   "source": [
    "states_needed = set([\"mt\", \"wa\", \"or\", \"id\", \"nv\", \"ut\", \"ca\", \"az\"])\n",
    "arr = [1, 2, 2, 3, 3, 3]\n",
    "set(arr)\n",
    "stations = {}\n",
    "stations[\"kone\"] = set([\"id\", \"nv\", \"ut\"])\n",
    "stations[\"ktwo\"] = set([\"wa\", \"id\", \"mt\"])\n",
    "stations[\"kthree\"] = set([\"or\", \"nv\", \"ca\"])\n",
    "stations[\"kfour\"] = set([\"nv\", \"ut\"])\n",
    "stations[\"kfive\"] = set([\"ca\", \"az\"])\n",
    "final_stations = set()\n",
    "\n",
    "while states_needed:\n",
    "    best_station = None\n",
    "    states_covered = set()\n",
    "    for station, states_for_station in stations.items():\n",
    "        covered = states_needed & states_for_station\n",
    "        if len(covered) > len(states_covered):\n",
    "            best_station = station\n",
    "            states_covered = covered\n",
    "    \n",
    "    states_needed -= states_covered\n",
    "    final_stations.add(best_station)\n",
    "print(final_stations)"
   ]
  },
  {
   "cell_type": "code",
   "execution_count": 60,
   "metadata": {},
   "outputs": [
    {
     "name": "stdout",
     "output_type": "stream",
     "text": [
      "{'banana', 'avocado', 'tomato', 'beets', 'carrots'}\n",
      "{'tomato'}\n",
      "{'banana', 'avocado'}\n"
     ]
    }
   ],
   "source": [
    "fruits = set([\"avocado\", \"tomato\", \"banana\"])\n",
    "vegetables = set([\"beets\", \"carrots\", \"tomato\"])\n",
    "print(fruits | vegetables)\n",
    "print(fruits & vegetables)\n",
    "print(fruits - vegetables)"
   ]
  },
  {
   "cell_type": "markdown",
   "metadata": {},
   "source": [
    "## NP complete problem\n",
    "\n",
    "### factorial function\n",
    "\n",
    "5! =120"
   ]
  },
  {
   "cell_type": "markdown",
   "metadata": {},
   "source": [
    "# Chapter 9\n",
    "## Dynamic Programming\n",
    "### Backpack problem\n",
    "\n",
    "Item\\Weight| 1 | 2 | 3 | 4\n",
    "---------|--------------|---------------|------------|----------\n",
    "Gitar| G 1500 | G 1500 | G 1500 | G 1500\n",
    "Sound| G 1500 | G 1500 | G 1500 | S 3000\n",
    "Laptop| G 1500 | G 1500 | L 2000 | LG 3500\n",
    "iPhone| I 2000 | IG 3500 | IG 3500 | IL 4000\n",
    "MP3 | I 2000 | IG 3500 | IGM 4500 | IGM 4500\n",
    "\n"
   ]
  },
  {
   "cell_type": "markdown",
   "metadata": {},
   "source": [
    "### Optimization of travel itinerary\n",
    "\n",
    "Place| Time | Rating\n",
    "---------|--------------|---------------\n",
    "W | 0.5d | 7\n",
    "G | 0.5d | 6\n",
    "N | 1d  | 9\n",
    "B | 2d | 9\n",
    "S | 0.5d | 8\n",
    "\n",
    "Place\\Day| 1/2 | 1 | 1.5 | 2\n",
    "---------|------|--------|-------|--------\n",
    "W | 7 W | 7 W | 7 W | 7 W\n",
    "G | 7 W | 13 WG | 13 WG | 13 WG\n",
    "N | 7 W | 13 WG | 16 WN | 22 WGN\n",
    "B | 7 W | 13 WG | 16 WN | 22 WGN\n",
    "S | 8 S | 15 SW | 21 WGS | 24 WNS"
   ]
  },
  {
   "cell_type": "markdown",
   "metadata": {},
   "source": [
    "### Longest common substring\n",
    "\n",
    "### Feynman algorithm"
   ]
  },
  {
   "cell_type": "code",
   "execution_count": 77,
   "metadata": {},
   "outputs": [],
   "source": [
    "word_a = 'FOSH'\n",
    "word_b = 'FISH'\n",
    "cell = [[0 for i in range(len(word_a))] for j in range(len(word_b))]\n",
    "for i in range(len(word_a)):\n",
    "    for j in range(len(word_b)):\n",
    "        if word_a[i] == word_b[j]:\n",
    "            cell[i][j] = cell[i-1][j-1] + 1\n",
    "        else:\n",
    "            cell[i][j] = 0\n",
    "\n",
    "        if word_a[i] == word_b[j]:\n",
    "            cell[i][j] = cell[i-1][j-1] + 1\n",
    "        else:\n",
    "            cell[i][j] = max(cell[i-1][j], cell[i][j-1])"
   ]
  },
  {
   "cell_type": "markdown",
   "metadata": {},
   "source": [
    "# Chapter 10\n",
    "## k-nearest neighbors algorithm （KNN)\n",
    "\n",
    "## Optical Character Recognition (OCR)\n",
    "\n",
    "## Naive Bayes classifier\n",
    "\n"
   ]
  },
  {
   "cell_type": "markdown",
   "metadata": {},
   "source": [
    "# Chapter 11 Conclustion\n",
    "\n",
    "## binary search tree\n",
    "\n",
    "## Inverted index\n",
    "\n",
    "## Fourier transform\n",
    "\n",
    "## Parallel algorithm\n",
    "\n",
    "## MapReduce"
   ]
  },
  {
   "cell_type": "code",
   "execution_count": 4,
   "metadata": {},
   "outputs": [],
   "source": [
    "arr1 = [1, 2, 3, 4, 5]\n",
    "arr2 = map(lambda x: 2 * x, arr1)\n",
    "\n",
    "# arr1 = []# A list of URLs\n",
    "# arr2 = map(download_page, arr1)\n",
    "\n",
    "arr1 = [1, 2, 3, 4, 5]\n",
    "reduce(lambda x,y: x+y, arr1)"
   ]
  },
  {
   "cell_type": "markdown",
   "metadata": {},
   "source": [
    "## Bloom filter\n",
    "## HyperLogLog\n",
    "## SHA (secure hash algorithm)\n",
    "## Simhash\n",
    "## Diffie-Hellman\n",
    "## Linear programming (Simplex)"
   ]
  },
  {
   "cell_type": "code",
   "execution_count": null,
   "metadata": {},
   "outputs": [],
   "source": []
  }
 ],
 "metadata": {
  "kernelspec": {
   "display_name": "Python 3",
   "language": "python",
   "name": "python3"
  },
  "language_info": {
   "codemirror_mode": {
    "name": "ipython",
    "version": 3
   },
   "file_extension": ".py",
   "mimetype": "text/x-python",
   "name": "python",
   "nbconvert_exporter": "python",
   "pygments_lexer": "ipython3",
   "version": "3.7.7"
  }
 },
 "nbformat": 4,
 "nbformat_minor": 2
}
