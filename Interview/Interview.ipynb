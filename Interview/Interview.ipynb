{
 "cells": [
  {
   "cell_type": "markdown",
   "id": "531c1a58",
   "metadata": {},
   "source": [
    "**Task**: Implement a cache in DAO class of Person objects:"
   ]
  },
  {
   "cell_type": "markdown",
   "id": "e62c605c",
   "metadata": {},
   "source": [
    "```Java\n",
    "class Person {\n",
    "  \n",
    "    public Integer savePerson(Person input) {\n",
    "        // return ID of the successfully saved object      \n",
    "        cache.put(input.id, input); \n",
    "        <save in database>\n",
    "    }\n",
    "  \n",
    "    public Person getPersonById(Integer id) {\n",
    "        // get object from DB by Id or null\n",
    "        if( person == null ) { \n",
    "            person = <load from DAO> \n",
    "        }\n",
    "        return category;\n",
    "    }\n",
    "}\n",
    "```"
   ]
  },
  {
   "cell_type": "code",
   "execution_count": null,
   "id": "a97651dc",
   "metadata": {},
   "outputs": [],
   "source": []
  }
 ],
 "metadata": {
  "kernelspec": {
   "display_name": "Python 3",
   "language": "python",
   "name": "python3"
  }
 },
 "nbformat": 4,
 "nbformat_minor": 5
}