{
 "cells": [
  {
   "cell_type": "markdown",
   "id": "531c1a58",
   "metadata": {},
   "source": [
    "**Task**: Implement a cache in DAO class of Person objects:"
   ]
  },
  {
   "cell_type": "markdown",
   "id": "e62c605c",
   "metadata": {},
   "source": [
    "```Java\n",
    "class Person {\n",
    "  \n",
    "    public Integer savePerson(Person input) {\n",
    "        // return ID of the successfully saved object      \n",
    "        cache.put(input.id, input); \n",
    "        <save in database>\n",
    "    }\n",
    "  \n",
    "    public Person getPersonById(Integer id) {\n",
    "        // get object from DB by Id or null\n",
    "        if( person == null ) { \n",
    "            person = <load from DAO> \n",
    "        }\n",
    "        return category;\n",
    "    }\n",
    "}\n",
    "```"
   ]
  },
  {
   "cell_type": "markdown",
   "id": "a97651dc",
   "metadata": {
    "pycharm": {
     "name": "#%% md\n"
    }
   },
   "source": [
    "Given two strings ransomNote and magazine, return true if ransomNote can be constructed by using the letters from magazine and false otherwise.\n",
    "Each letter in magazine can only be used once in ransomNote.\n",
    "\n",
    "Example 1:\n",
    "Input: ransomNote = \"a\", magazine = \"b\"\n",
    "Output: false\n",
    "\n",
    "Example 2:\n",
    "\n",
    "Input: ransomNote = \"aa\", magazine = \"ab\"\n",
    "Output: false\n",
    "Example 3:\n",
    "\n",
    "Input: ransomNote = \"aa\", magazine = \"aab\"\n",
    "Output: true\n"
   ]
  },
  {
   "cell_type": "code",
   "execution_count": null,
   "outputs": [],
   "source": [
    "\n",
    "def canConstruct(self, ransomNote: str, magazine: str) -> bool:\n",
    "    for i in ransomNote:\n",
    "        if i in magazine:\n",
    "            magazine = magazine.replace(i, \"\", 1)\n",
    "        else:\n",
    "            return False\n",
    "    return True\n",
    "\n",
    "\n",
    "if __name__ == \"__main__\":\n",
    "    ransomNote = \"a\"\n",
    "    magazine = \"b\"\n",
    "    assert(canConstruct(ransomNote, magazine))\n",
    "\n",
    "    ransomNote = \"aa\"\n",
    "    magazine = \"ab\"\n",
    "    print(canConstruct(ransomNote, magazine))\n",
    "\n",
    "    ransomNote = \"aa\"\n",
    "    magazine = \"aab\"\n",
    "    print(canConstruct(ransomNote, magazine))\n"
   ],
   "metadata": {
    "collapsed": false,
    "pycharm": {
     "name": "#%%\n",
     "is_executing": true
    }
   }
  },
  {
   "cell_type": "code",
   "execution_count": null,
   "outputs": [],
   "source": [],
   "metadata": {
    "collapsed": false,
    "pycharm": {
     "name": "#%%\n"
    }
   }
  }
 ],
 "metadata": {
  "kernelspec": {
   "display_name": "Python 3",
   "language": "python",
   "name": "python3"
  }
 },
 "nbformat": 4,
 "nbformat_minor": 5
}