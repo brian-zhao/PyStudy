{
 "cells": [
  {
   "cell_type": "markdown",
   "id": "3e2e17f7",
   "metadata": {},
   "source": [
    "**Task**: Implement a cache in DAO class of Person objects:"
   ]
  },
  {
   "cell_type": "code",
   "execution_count": null,
   "id": "9bd52d34",
   "metadata": {},
   "outputs": [],
   "source": [
    "class Person {\n",
    "  \n",
    "    public Integer savePerson(Person input) {\n",
    "        // return ID of the successfully saved object       \n",
    "    }\n",
    "  \n",
    "    public Person getPersonById(Integer id) {\n",
    "        // get object from DB by Id or null\n",
    "    }\n",
    "}"
   ]
  },
  {
   "cell_type": "code",
   "execution_count": null,
   "id": "2eaf20ee",
   "metadata": {},
   "outputs": [],
   "source": []
  }
 ],
 "metadata": {
  "kernelspec": {
   "display_name": "Python 3",
   "language": "python",
   "name": "python3"
  }
 },
 "nbformat": 4,
 "nbformat_minor": 5
}
